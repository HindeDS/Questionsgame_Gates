{
 "cells": [
  {
   "cell_type": "markdown",
   "id": "39771cbf-a83c-4cf9-b1f4-4e2d51803c7e",
   "metadata": {},
   "source": [
    "The main of this game is to answer to 10 Questions about X,Y and H gates by choosing the number of qubits"
   ]
  },
  {
   "cell_type": "code",
   "execution_count": null,
   "id": "0484a54c-be48-44cc-9e76-5126363bb41f",
   "metadata": {},
   "outputs": [],
   "source": [
    "from qiskit import*\n",
    "#choose the number of qubits\n",
    "m = int(input(\"Enter the number of qubits:- \"))\n",
    "#create the circuit\n",
    "qc=QuantumCircuit(m)\n",
    "#Apply X gate to last qubit\n",
    "qc.x(m-1)\n",
    "backend1 = Aer.get_backend(\"statevector_simulator\")\n",
    "result1 = execute(qc, backend=backend1, shots=1).result()\n",
    "counts1 = result1.get_counts(qc)\n",
    "#Initialize Sum of Correct answers\n",
    "sum=0\n",
    "#First question\n",
    "p1 = input(\"What is the outcome after applying x gate to last qubit?:- \")\n",
    "#First answer\n",
    "for outcome1 in counts1:\n",
    "    if (p1==outcome1):\n",
    "        print(\"correct answer\")\n",
    "        sum = sum +1\n",
    "    else:\n",
    "        print(\"uncorrect answer,the correct answer is :\",outcome1)\n",
    "#Apply X gate to first qubit   \n",
    "qc.x(m-m)\n",
    "backend2 = Aer.get_backend(\"statevector_simulator\")\n",
    "result2 = execute(qc, backend=backend2, shots=1).result()\n",
    "counts2 = result2.get_counts(qc)\n",
    "#Second question\n",
    "p2 = input(\"What is the outcome after applying x gate to first qubit qubit?:- \")\n",
    "#Second Answer\n",
    "for outcome2 in counts2:\n",
    "    if (p2==outcome2):\n",
    "        print(\"correct answer\")\n",
    "        sum = sum +1\n",
    "    else:\n",
    "        print(\"uncorrect answer,the correct answer is :\",outcome2)\n",
    "#Apply Y gate to last qubit\n",
    "qc.y(m-1)\n",
    "backend3 = Aer.get_backend(\"statevector_simulator\")\n",
    "result3 = execute(qc, backend=backend3, shots=1).result()\n",
    "counts3 = result3.get_counts(qc)\n",
    "#Third Question\n",
    "p3 = input(\"What is the outcome after applying Y gate to last qubit qubit?:- \")\n",
    "#Third Answer\n",
    "for outcome3 in counts3:\n",
    "    if (p3==outcome3):\n",
    "        print(\"correct answer\")\n",
    "        sum = sum +1\n",
    "    else:\n",
    "        print(\"uncorrect answer,the correct answer is :\",outcome3)\n",
    "#Apply Y gate to first qubit\n",
    "qc.y(m-m)\n",
    "backend4 = Aer.get_backend(\"statevector_simulator\")\n",
    "result4 = execute(qc, backend=backend4, shots=1).result()\n",
    "counts4 = result4.get_counts(qc)\n",
    "#Foorth Question\n",
    "p4 = input(\"What is the outcome after applying Y gate to first qubit?:- \")\n",
    "#Foorth Answer\n",
    "for outcome4 in counts4:\n",
    "    if (p4==outcome4):\n",
    "        print(\"correct answer\")\n",
    "        sum = sum +1\n",
    "    else:\n",
    "        print(\"uncorrect answer,the correct answer is :\",outcome4)\n",
    "#Apply H gate to first gate\n",
    "qc.h(m-m)\n",
    "backend5 = Aer.get_backend(\"statevector_simulator\")\n",
    "result5 = execute(qc, backend=backend5, shots=1).result()\n",
    "counts5 = result5.get_counts(qc)\n",
    "#Fith Question\n",
    "p5 = input(\"What is the first state after applying h gate to first qubit?:- \")\n",
    "#sixth Question\n",
    "p6 = input(\"What is the second state after applying h gate to first qubit?:- \")\n",
    "#Answers for fifth and sixth questions\n",
    "for outcome5 in counts5:   \n",
    "    if (p5==outcome5):      \n",
    "        print(\"correct answer for the first state\")\n",
    "        sum = sum +1           \n",
    "    elif (p6==outcome5):       \n",
    "        print(\"correct answer for the second state\")\n",
    "        sum = sum +1\n",
    "    else:\n",
    "        print(\"uncorrect answer,the correct answer is :\",outcome5)\n",
    "#Apply H gate to last gate\n",
    "qc.h(m-1)\n",
    "backend6 = Aer.get_backend(\"statevector_simulator\")\n",
    "result6 = execute(qc, backend=backend6, shots=1).result()\n",
    "counts6 = result6.get_counts(qc)\n",
    "#Seventh Question\n",
    "p7 = input(\"What is the first state after applying h gate to last qubit?:- \")\n",
    "#eight Question\n",
    "p8 = input(\"What is the second state after applying h gate to last qubit?:- \")\n",
    "#nineth Question\n",
    "p9 = input(\"What is the third state after applying h gate to last qubit?:- \")\n",
    "#tenth Question\n",
    "p10 = input(\"What is the fourth state after applying h gate to last qubit?:- \")\n",
    "#Answers for seventh eighth questions\n",
    "for outcome6 in counts6:   \n",
    "    if (p7==outcome6):\n",
    "        print(\"correct answer for the first state\")\n",
    "        sum = sum +1\n",
    "    elif (p8==outcome6):       \n",
    "        print(\"correct answer for the second state\")\n",
    "        sum = sum +1\n",
    "    elif (p9==outcome6):        \n",
    "        print(\"correct answer for the third state\")\n",
    "        sum = sum +1\n",
    "    elif (p10==outcome6):        \n",
    "        print(\"correct answer for the fourth state\")\n",
    "        sum = sum +1   \n",
    "    else:\n",
    "        print(\"uncorrect answer,the correct answer is :\",outcome6)\n",
    "print(\"    \")\n",
    "print(\"You have got\",sum,\" correct answers\")"
   ]
  },
  {
   "cell_type": "code",
   "execution_count": null,
   "id": "021c7e23-3f4e-4f2c-a478-ef7713118d27",
   "metadata": {},
   "outputs": [],
   "source": []
  }
 ],
 "metadata": {
  "kernelspec": {
   "display_name": "Qiskit v0.35.0 (ipykernel)",
   "language": "python",
   "name": "python3"
  },
  "language_info": {
   "codemirror_mode": {
    "name": "ipython",
    "version": 3
   },
   "file_extension": ".py",
   "mimetype": "text/x-python",
   "name": "python",
   "nbconvert_exporter": "python",
   "pygments_lexer": "ipython3",
   "version": "3.8.13"
  },
  "widgets": {
   "application/vnd.jupyter.widget-state+json": {
    "state": {
     "09142b781c06473ea9b6c8dcb0d204a0": {
      "model_module": "@jupyter-widgets/controls",
      "model_module_version": "1.5.0",
      "model_name": "HTMLModel",
      "state": {
       "layout": "IPY_MODEL_49b1b5bec7934b6c87f39e8f70d1a7d3",
       "style": "IPY_MODEL_6d42e4c626754252adbbd4dda4461ea2",
       "value": "<h5>Queue</h5>"
      }
     },
     "0ba154f2c5154d358e82018448e3446b": {
      "model_module": "@jupyter-widgets/controls",
      "model_module_version": "1.5.0",
      "model_name": "HTMLModel",
      "state": {
       "layout": "IPY_MODEL_581874b714ea4b4fb0c824f9f3230c46",
       "style": "IPY_MODEL_76ed42850c1640329b7010ee18ea0060",
       "value": "<h5>Status</h5>"
      }
     },
     "2216d2939b974b3497b17607222e5f38": {
      "model_module": "@jupyter-widgets/controls",
      "model_module_version": "1.5.0",
      "model_name": "HBoxModel",
      "state": {
       "children": [
        "IPY_MODEL_9653927c1eae4022a95e6d9545a10995",
        "IPY_MODEL_b3f933660ae84a06a091dd1e839e245e",
        "IPY_MODEL_0ba154f2c5154d358e82018448e3446b",
        "IPY_MODEL_09142b781c06473ea9b6c8dcb0d204a0",
        "IPY_MODEL_d625c252cd8d4fa5bb470d7e03ee0cc8"
       ],
       "layout": "IPY_MODEL_f8eeac4d1317496aa445626625939fa2"
      }
     },
     "323bafceaa274ddaafcc2adf6348a1c8": {
      "model_module": "@jupyter-widgets/controls",
      "model_module_version": "1.5.0",
      "model_name": "DescriptionStyleModel",
      "state": {
       "description_width": ""
      }
     },
     "33a1672bc0c145898a87a8c3182e7675": {
      "model_module": "@jupyter-widgets/base",
      "model_module_version": "1.2.0",
      "model_name": "LayoutModel",
      "state": {
       "grid_area": "right",
       "padding": "0px 0px 0px 0px",
       "width": "70px"
      }
     },
     "49b1b5bec7934b6c87f39e8f70d1a7d3": {
      "model_module": "@jupyter-widgets/base",
      "model_module_version": "1.2.0",
      "model_name": "LayoutModel",
      "state": {
       "width": "70px"
      }
     },
     "581874b714ea4b4fb0c824f9f3230c46": {
      "model_module": "@jupyter-widgets/base",
      "model_module_version": "1.2.0",
      "model_name": "LayoutModel",
      "state": {
       "width": "95px"
      }
     },
     "5a15a4e178db4012ba0de2e63f498345": {
      "model_module": "@jupyter-widgets/base",
      "model_module_version": "1.2.0",
      "model_name": "LayoutModel",
      "state": {
       "grid_template_areas": "\n                                       \". . . . right \"\n                                        ",
       "grid_template_columns": "20% 20% 20% 20% 20%",
       "width": "100%"
      }
     },
     "60c92c78366e4019a671e8736181b7f4": {
      "model_module": "@jupyter-widgets/base",
      "model_module_version": "1.2.0",
      "model_name": "LayoutModel",
      "state": {
       "margin": "0px 0px 10px 0px"
      }
     },
     "6d42e4c626754252adbbd4dda4461ea2": {
      "model_module": "@jupyter-widgets/controls",
      "model_module_version": "1.5.0",
      "model_name": "DescriptionStyleModel",
      "state": {
       "description_width": ""
      }
     },
     "73c42a0a27b04ebabaf3e321e948fdee": {
      "model_module": "@jupyter-widgets/controls",
      "model_module_version": "1.5.0",
      "model_name": "ButtonModel",
      "state": {
       "button_style": "primary",
       "description": "Clear",
       "layout": "IPY_MODEL_33a1672bc0c145898a87a8c3182e7675",
       "style": "IPY_MODEL_891c7ec97cb44d949fb2f608d7c64baf"
      }
     },
     "76ed42850c1640329b7010ee18ea0060": {
      "model_module": "@jupyter-widgets/controls",
      "model_module_version": "1.5.0",
      "model_name": "DescriptionStyleModel",
      "state": {
       "description_width": ""
      }
     },
     "891c7ec97cb44d949fb2f608d7c64baf": {
      "model_module": "@jupyter-widgets/controls",
      "model_module_version": "1.5.0",
      "model_name": "ButtonStyleModel",
      "state": {}
     },
     "9653927c1eae4022a95e6d9545a10995": {
      "model_module": "@jupyter-widgets/controls",
      "model_module_version": "1.5.0",
      "model_name": "HTMLModel",
      "state": {
       "layout": "IPY_MODEL_b9ab9cd68a35469cb3e5084d131b38ff",
       "style": "IPY_MODEL_c8c32dc0483d4a629a7722c24abc7a17",
       "value": "<h5>Job ID</h5>"
      }
     },
     "b3f933660ae84a06a091dd1e839e245e": {
      "model_module": "@jupyter-widgets/controls",
      "model_module_version": "1.5.0",
      "model_name": "HTMLModel",
      "state": {
       "layout": "IPY_MODEL_fad6a8e7aa50450f8aed37c5aff16218",
       "style": "IPY_MODEL_fa94ec036b7a49efb48e06f128a97050",
       "value": "<h5>Backend</h5>"
      }
     },
     "b9ab9cd68a35469cb3e5084d131b38ff": {
      "model_module": "@jupyter-widgets/base",
      "model_module_version": "1.2.0",
      "model_name": "LayoutModel",
      "state": {
       "width": "190px"
      }
     },
     "c8c32dc0483d4a629a7722c24abc7a17": {
      "model_module": "@jupyter-widgets/controls",
      "model_module_version": "1.5.0",
      "model_name": "DescriptionStyleModel",
      "state": {
       "description_width": ""
      }
     },
     "d625c252cd8d4fa5bb470d7e03ee0cc8": {
      "model_module": "@jupyter-widgets/controls",
      "model_module_version": "1.5.0",
      "model_name": "HTMLModel",
      "state": {
       "layout": "IPY_MODEL_de4de70a24054b8caa757456810f2e78",
       "style": "IPY_MODEL_323bafceaa274ddaafcc2adf6348a1c8",
       "value": "<h5>Message</h5>"
      }
     },
     "de4de70a24054b8caa757456810f2e78": {
      "model_module": "@jupyter-widgets/base",
      "model_module_version": "1.2.0",
      "model_name": "LayoutModel",
      "state": {}
     },
     "e4480b0a00ba49978234353abb612c4c": {
      "model_module": "@jupyter-widgets/controls",
      "model_module_version": "1.5.0",
      "model_name": "GridBoxModel",
      "state": {
       "children": [
        "IPY_MODEL_73c42a0a27b04ebabaf3e321e948fdee"
       ],
       "layout": "IPY_MODEL_5a15a4e178db4012ba0de2e63f498345"
      }
     },
     "e90d685b5bba40a59fc7d76f00ee564c": {
      "model_module": "@jupyter-widgets/controls",
      "model_module_version": "1.5.0",
      "model_name": "DescriptionStyleModel",
      "state": {
       "description_width": ""
      }
     },
     "f75376e43bcf427c9e5f973598290a82": {
      "model_module": "@jupyter-widgets/controls",
      "model_module_version": "1.5.0",
      "model_name": "HTMLModel",
      "state": {
       "layout": "IPY_MODEL_60c92c78366e4019a671e8736181b7f4",
       "style": "IPY_MODEL_e90d685b5bba40a59fc7d76f00ee564c",
       "value": "<p style='font-family: IBM Plex Sans, Arial, Helvetica, sans-serif; font-size: 20px; font-weight: medium;'>Circuit Properties</p>"
      }
     },
     "f8eeac4d1317496aa445626625939fa2": {
      "model_module": "@jupyter-widgets/base",
      "model_module_version": "1.2.0",
      "model_name": "LayoutModel",
      "state": {
       "margin": "0px 0px 0px 37px",
       "width": "600px"
      }
     },
     "fa94ec036b7a49efb48e06f128a97050": {
      "model_module": "@jupyter-widgets/controls",
      "model_module_version": "1.5.0",
      "model_name": "DescriptionStyleModel",
      "state": {
       "description_width": ""
      }
     },
     "fad6a8e7aa50450f8aed37c5aff16218": {
      "model_module": "@jupyter-widgets/base",
      "model_module_version": "1.2.0",
      "model_name": "LayoutModel",
      "state": {
       "width": "145px"
      }
     }
    },
    "version_major": 2,
    "version_minor": 0
   }
  }
 },
 "nbformat": 4,
 "nbformat_minor": 5
}
